{
 "cells": [
  {
   "cell_type": "markdown",
   "id": "d3e04c76",
   "metadata": {},
   "source": [
    "<h1>Sampling a rating dataset from 500 users of the ml-25m dataset</h1>\n",
    "\n",
    "\n",
    "<B>CAVEAT:<B> The sampling requires a copy of the ratings.csv file from an official source (see also [X] in the code below). See for instance https://grouplens.org/datasets/movielens/25m/ (last access: January 14, 2025).\n",
    "\n",
    "We group the ml-25m benchmark dataset by userId and then order by the number of rating entries per user. By default, every user has at least 20 entries. We then create 500 equisized chunks of the histogram and sample one user per slice.\n",
    "\n",
    "Permission to use a sample of the ml-25m dataset has been granted on 11 November, 2022 (see /dec-cf-sim/data/ml-25m/2022-11-11_Permission to use a sample from the ml-25m dataset.pdf)."
   ]
  },
  {
   "cell_type": "code",
   "execution_count": 1,
   "id": "91d46e7f",
   "metadata": {},
   "outputs": [],
   "source": [
    "import pandas as pd\n",
    "import numpy as np\n",
    "\n",
    "def sample_n_users(df, n, random_state=1234):\n",
    "    # sort userIds by number of rating entries (descending)\n",
    "    sorted_userIds = df.value_counts(\"userId\").index\n",
    "    # split userIds into equalsized chunks \n",
    "    userId_chunks = np.array_split(sorted_userIds, n)\n",
    "\n",
    "    # sample userIds (one per chunk)\n",
    "    sample_userIds = [pd.Series(chunk.values).sample(n=1, random_state=random_state).values[0] for chunk in userId_chunks]\n",
    "    sample_df = df[df.loc[:,\"userId\"].isin(sample_userIds)]\n",
    "    return sample_df"
   ]
  },
  {
   "cell_type": "code",
   "execution_count": 2,
   "id": "46bf7aa6",
   "metadata": {},
   "outputs": [],
   "source": [
    "# READ DATA\n",
    "#############\n",
    "\n",
    "# Some statistics on the ml-25m dataset we sample from:\n",
    "# total lengths\n",
    "# tag_df 1093360 rows × 4 columns\n",
    "# num unique users: 14592\n",
    "######\n",
    "# 25m_df 25000095rows × 4 columns\n",
    "# num unique users: 162541\n",
    "\n",
    "# ratings\n",
    "ml25_ratings = '/home/teichinger/dec-cf-sim/data/ml-25m/ratings.csv' # [X] CAVEAT: You have to get a copy of this .csv file to proceed from an official source.\n",
    "df = pd.read_csv(ml25_ratings, dtype = {\"userId\": object, \"movieId\": object, \"rating\": float, \"timestamp\": int})\n",
    "# rename column: 'movieId' -> 'itemId'\n",
    "df.columns = ['userId', 'itemId', 'rating', 'timestamp']\n",
    "\n",
    "# tags\n",
    "ml25_tags = '/home/teichinger/dec-cf-sim/data/ml-25m/tags.csv'\n",
    "df_tags = pd.read_csv(ml25_tags, dtype = {\"userId\":object, \"movieId\": object, \"tag\": object, \"timestamp\": int})\n",
    "\n",
    "# SAMPLE DF\n",
    "##############\n",
    "sample_df = sample_n_users(df, 500, random_state=1234)\n",
    "\n",
    "# SAVE DF\n",
    "##############\n",
    "output_filename = './samples/ml-25m:n=500:rseed=1234.csv'\n",
    "sample_df.to_csv(output_filename, index=False)"
   ]
  },
  {
   "cell_type": "code",
   "execution_count": 3,
   "id": "1d67053c",
   "metadata": {},
   "outputs": [],
   "source": [
    "# SELECT ALL SAMPLED USERS \n",
    "sample_userIds = sample_df.loc[:,\"userId\"].value_counts().index.tolist()\n",
    "\n",
    "\n",
    "def blank_concat(_s):\n",
    "    \"\"\" Takes a pandas.Series <_s> and concatenates all strings with a blank in between. \"\"\"\n",
    "    \n",
    "    return \" \".join(_s)\n",
    "\n",
    "\n",
    "#items for which predictions are due:      158   \n",
    "#items for which predictions are feasible: 8355\n",
    "#items for which predicitons are feasible in the test set: 156"
   ]
  },
  {
   "cell_type": "code",
   "execution_count": null,
   "id": "54da60f8-86be-4fe7-9e5c-486ba8f77454",
   "metadata": {},
   "outputs": [],
   "source": []
  }
 ],
 "metadata": {
  "kernelspec": {
   "display_name": "Python 3 (ipykernel)",
   "language": "python",
   "name": "python3"
  },
  "language_info": {
   "codemirror_mode": {
    "name": "ipython",
    "version": 3
   },
   "file_extension": ".py",
   "mimetype": "text/x-python",
   "name": "python",
   "nbconvert_exporter": "python",
   "pygments_lexer": "ipython3",
   "version": "3.8.0"
  }
 },
 "nbformat": 4,
 "nbformat_minor": 5
}
